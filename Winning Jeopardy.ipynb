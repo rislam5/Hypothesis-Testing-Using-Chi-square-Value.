{
 "cells": [
  {
   "cell_type": "markdown",
   "metadata": {},
   "source": [
    "# Hypothesis Testing Using Chi-square Value.\n",
    "**Overview:** This project is about hypothesis testing. We will select a **null** and an **alternative** hypthesis. And then based on the **chi-square and p-value** we will try to see tha randomness of an outcome that **an outcome can be identified or it is random** which will ultimately tell us **to choose either null or alternative hypothesis.**    \n",
    "\n",
    "**Data:** We have a dataset of a popular tv show Jeopardy. This show asks question to the player and if player can answer correctly, he/she will get money as a prize. So here we will try to find out **if the show follows any question pattern which is our null hypothesis.**  We will either accept or reject this hypothesis. You can download the dataset from [here.](https://www.reddit.com/r/datasets/comments/1uyd0t/200000_jeopardy_questions_in_a_json_file/) "
   ]
  },
  {
   "cell_type": "code",
   "execution_count": 1,
   "metadata": {},
   "outputs": [],
   "source": [
    "# Importing libraries\n",
    "import numpy as np\n",
    "import pandas as pd\n",
    "import matplotlib.pyplot as plt\n",
    "import seaborn as sns\n",
    "\n",
    "%matplotlib inline"
   ]
  },
  {
   "cell_type": "code",
   "execution_count": 2,
   "metadata": {},
   "outputs": [
    {
     "data": {
      "text/html": [
       "<div>\n",
       "<style scoped>\n",
       "    .dataframe tbody tr th:only-of-type {\n",
       "        vertical-align: middle;\n",
       "    }\n",
       "\n",
       "    .dataframe tbody tr th {\n",
       "        vertical-align: top;\n",
       "    }\n",
       "\n",
       "    .dataframe thead th {\n",
       "        text-align: right;\n",
       "    }\n",
       "</style>\n",
       "<table border=\"1\" class=\"dataframe\">\n",
       "  <thead>\n",
       "    <tr style=\"text-align: right;\">\n",
       "      <th></th>\n",
       "      <th>Show Number</th>\n",
       "      <th>Air Date</th>\n",
       "      <th>Round</th>\n",
       "      <th>Category</th>\n",
       "      <th>Value</th>\n",
       "      <th>Question</th>\n",
       "      <th>Answer</th>\n",
       "    </tr>\n",
       "  </thead>\n",
       "  <tbody>\n",
       "    <tr>\n",
       "      <td>0</td>\n",
       "      <td>4680</td>\n",
       "      <td>2004-12-31</td>\n",
       "      <td>Jeopardy!</td>\n",
       "      <td>HISTORY</td>\n",
       "      <td>$200</td>\n",
       "      <td>For the last 8 years of his life, Galileo was under house arrest for espousing this man's theory</td>\n",
       "      <td>Copernicus</td>\n",
       "    </tr>\n",
       "    <tr>\n",
       "      <td>1</td>\n",
       "      <td>4680</td>\n",
       "      <td>2004-12-31</td>\n",
       "      <td>Jeopardy!</td>\n",
       "      <td>ESPN's TOP 10 ALL-TIME ATHLETES</td>\n",
       "      <td>$200</td>\n",
       "      <td>No. 2: 1912 Olympian; football star at Carlisle Indian School; 6 MLB seasons with the Reds, Giants &amp; Braves</td>\n",
       "      <td>Jim Thorpe</td>\n",
       "    </tr>\n",
       "    <tr>\n",
       "      <td>2</td>\n",
       "      <td>4680</td>\n",
       "      <td>2004-12-31</td>\n",
       "      <td>Jeopardy!</td>\n",
       "      <td>EVERYBODY TALKS ABOUT IT...</td>\n",
       "      <td>$200</td>\n",
       "      <td>The city of Yuma in this state has a record average of 4,055 hours of sunshine each year</td>\n",
       "      <td>Arizona</td>\n",
       "    </tr>\n",
       "    <tr>\n",
       "      <td>3</td>\n",
       "      <td>4680</td>\n",
       "      <td>2004-12-31</td>\n",
       "      <td>Jeopardy!</td>\n",
       "      <td>THE COMPANY LINE</td>\n",
       "      <td>$200</td>\n",
       "      <td>In 1963, live on \"The Art Linkletter Show\", this company served its billionth burger</td>\n",
       "      <td>McDonald's</td>\n",
       "    </tr>\n",
       "    <tr>\n",
       "      <td>4</td>\n",
       "      <td>4680</td>\n",
       "      <td>2004-12-31</td>\n",
       "      <td>Jeopardy!</td>\n",
       "      <td>EPITAPHS &amp; TRIBUTES</td>\n",
       "      <td>$200</td>\n",
       "      <td>Signer of the Dec. of Indep., framer of the Constitution of Mass., second President of the United States</td>\n",
       "      <td>John Adams</td>\n",
       "    </tr>\n",
       "  </tbody>\n",
       "</table>\n",
       "</div>"
      ],
      "text/plain": [
       "   Show Number    Air Date      Round                         Category  Value  \\\n",
       "0         4680  2004-12-31  Jeopardy!                          HISTORY   $200   \n",
       "1         4680  2004-12-31  Jeopardy!  ESPN's TOP 10 ALL-TIME ATHLETES   $200   \n",
       "2         4680  2004-12-31  Jeopardy!      EVERYBODY TALKS ABOUT IT...   $200   \n",
       "3         4680  2004-12-31  Jeopardy!                 THE COMPANY LINE   $200   \n",
       "4         4680  2004-12-31  Jeopardy!              EPITAPHS & TRIBUTES   $200   \n",
       "\n",
       "                                                                                                      Question  \\\n",
       "0             For the last 8 years of his life, Galileo was under house arrest for espousing this man's theory   \n",
       "1  No. 2: 1912 Olympian; football star at Carlisle Indian School; 6 MLB seasons with the Reds, Giants & Braves   \n",
       "2                     The city of Yuma in this state has a record average of 4,055 hours of sunshine each year   \n",
       "3                         In 1963, live on \"The Art Linkletter Show\", this company served its billionth burger   \n",
       "4     Signer of the Dec. of Indep., framer of the Constitution of Mass., second President of the United States   \n",
       "\n",
       "       Answer  \n",
       "0  Copernicus  \n",
       "1  Jim Thorpe  \n",
       "2     Arizona  \n",
       "3  McDonald's  \n",
       "4  John Adams  "
      ]
     },
     "execution_count": 2,
     "metadata": {},
     "output_type": "execute_result"
    }
   ],
   "source": [
    "# Importing dataset\n",
    "jeopardy = pd.read_csv('jeopardy.csv')\n",
    "\n",
    "pd.set_option('display.max_colwidth', 1000)\n",
    "jeopardy.head()"
   ]
  },
  {
   "cell_type": "code",
   "execution_count": 3,
   "metadata": {},
   "outputs": [
    {
     "data": {
      "text/plain": [
       "(19999, 7)"
      ]
     },
     "execution_count": 3,
     "metadata": {},
     "output_type": "execute_result"
    }
   ],
   "source": [
    "jeopardy.shape"
   ]
  },
  {
   "cell_type": "code",
   "execution_count": 4,
   "metadata": {},
   "outputs": [
    {
     "name": "stdout",
     "output_type": "stream",
     "text": [
      "<class 'pandas.core.frame.DataFrame'>\n",
      "RangeIndex: 19999 entries, 0 to 19998\n",
      "Data columns (total 7 columns):\n",
      "Show Number    19999 non-null int64\n",
      " Air Date      19999 non-null object\n",
      " Round         19999 non-null object\n",
      " Category      19999 non-null object\n",
      " Value         19999 non-null object\n",
      " Question      19999 non-null object\n",
      " Answer        19999 non-null object\n",
      "dtypes: int64(1), object(6)\n",
      "memory usage: 1.1+ MB\n"
     ]
    }
   ],
   "source": [
    "jeopardy.info()"
   ]
  },
  {
   "cell_type": "markdown",
   "metadata": {},
   "source": [
    "-   **We can see some anomaly here. For example, the 'Air Date' column should be in datetime format, 'Value' in integer. We also notice some problem in the spacing of cloumn names.**"
   ]
  },
  {
   "cell_type": "markdown",
   "metadata": {},
   "source": [
    "# Cleaning and Formatting"
   ]
  },
  {
   "cell_type": "code",
   "execution_count": 5,
   "metadata": {},
   "outputs": [
    {
     "data": {
      "text/plain": [
       "Index(['Show Number', ' Air Date', ' Round', ' Category', ' Value',\n",
       "       ' Question', ' Answer'],\n",
       "      dtype='object')"
      ]
     },
     "execution_count": 5,
     "metadata": {},
     "output_type": "execute_result"
    }
   ],
   "source": [
    "jeopardy.columns"
   ]
  },
  {
   "cell_type": "code",
   "execution_count": 6,
   "metadata": {},
   "outputs": [],
   "source": [
    "# Fixing the white space before column name.\n",
    "jeopardy.columns = ['Show Number', 'Air Date', 'Round', 'Category', 'Value', 'Question', 'Answer']"
   ]
  },
  {
   "cell_type": "code",
   "execution_count": 7,
   "metadata": {},
   "outputs": [
    {
     "data": {
      "text/plain": [
       "$400       3892\n",
       "$800       2980\n",
       "$200       2784\n",
       "$600       1890\n",
       "$1000      1796\n",
       "$2000      1074\n",
       "$1200      1069\n",
       "$1600      1027\n",
       "$100        804\n",
       "$500        798\n",
       "$300        764\n",
       "None        336\n",
       "$1,000      184\n",
       "$2,000      149\n",
       "$3,000       70\n",
       "$1,500       50\n",
       "$1,200       42\n",
       "$4,000       32\n",
       "$5,000       23\n",
       "$1,800       22\n",
       "$1,400       20\n",
       "$1,600       19\n",
       "$2,500       18\n",
       "$700         15\n",
       "$2,200       11\n",
       "$3,600        8\n",
       "$2,400        8\n",
       "$6,000        7\n",
       "$7,000        7\n",
       "$1,300        6\n",
       "$3,500        6\n",
       "$1,100        6\n",
       "$900          6\n",
       "$3,200        6\n",
       "$3,400        5\n",
       "$2,800        5\n",
       "$1,900        5\n",
       "$10,000       3\n",
       "$8,000        3\n",
       "$3,100        3\n",
       "$2,600        3\n",
       "$4,800        2\n",
       "$3,800        2\n",
       "$7,200        2\n",
       "$5,600        2\n",
       "$12,000       2\n",
       "$2,100        2\n",
       "$4,400        2\n",
       "$4,600        2\n",
       "$3,900        1\n",
       "$3,389        1\n",
       "$2,300        1\n",
       "$2,021        1\n",
       "$4,700        1\n",
       "$7,400        1\n",
       "$5,200        1\n",
       "$367          1\n",
       "$8,200        1\n",
       "$2,900        1\n",
       "$4,500        1\n",
       "$1,020        1\n",
       "$1,111        1\n",
       "$9,000        1\n",
       "$6,100        1\n",
       "$1,700        1\n",
       "$6,800        1\n",
       "$10,800       1\n",
       "$7,500        1\n",
       "$6,200        1\n",
       "$750          1\n",
       "$4,100        1\n",
       "$1,492        1\n",
       "$2,127        1\n",
       "$5,400        1\n",
       "$3,300        1\n",
       "$5,800        1\n",
       "Name: Value, dtype: int64"
      ]
     },
     "execution_count": 7,
     "metadata": {},
     "output_type": "execute_result"
    }
   ],
   "source": [
    "# Value columns\n",
    "pd.set_option('display.max_rows', 100)\n",
    "jeopardy.Value.value_counts()"
   ]
  },
  {
   "cell_type": "markdown",
   "metadata": {},
   "source": [
    "-   **We need to remove the dollar sign and comma to convert this to integer. There are also 336 rows with 'None' so while formatting we should take care of this too.**"
   ]
  },
  {
   "cell_type": "code",
   "execution_count": 8,
   "metadata": {},
   "outputs": [],
   "source": [
    "# Function to remove dollar sign and 'None' value\n",
    "def convert(x):\n",
    "    import re\n",
    "    if x == 'None':\n",
    "        return 0\n",
    "    else:\n",
    "        x = re.sub('[^\\d]', '', x)         # '^\\d' means except digit remove all\n",
    "        x = int(x)\n",
    "        return x\n",
    "\n",
    "jeopardy['Value'] = jeopardy.Value.apply(convert)"
   ]
  },
  {
   "cell_type": "code",
   "execution_count": 9,
   "metadata": {},
   "outputs": [],
   "source": [
    "# Changing the 'Air Date' data type to datetime\n",
    "jeopardy['Air Date'] = pd.to_datetime(jeopardy['Air Date'])   # chanigng to date time format"
   ]
  },
  {
   "cell_type": "code",
   "execution_count": 10,
   "metadata": {},
   "outputs": [
    {
     "data": {
      "text/html": [
       "<div>\n",
       "<style scoped>\n",
       "    .dataframe tbody tr th:only-of-type {\n",
       "        vertical-align: middle;\n",
       "    }\n",
       "\n",
       "    .dataframe tbody tr th {\n",
       "        vertical-align: top;\n",
       "    }\n",
       "\n",
       "    .dataframe thead th {\n",
       "        text-align: right;\n",
       "    }\n",
       "</style>\n",
       "<table border=\"1\" class=\"dataframe\">\n",
       "  <thead>\n",
       "    <tr style=\"text-align: right;\">\n",
       "      <th></th>\n",
       "      <th>Show Number</th>\n",
       "      <th>Air Date</th>\n",
       "      <th>Round</th>\n",
       "      <th>Category</th>\n",
       "      <th>Value</th>\n",
       "      <th>Question</th>\n",
       "      <th>Answer</th>\n",
       "    </tr>\n",
       "  </thead>\n",
       "  <tbody>\n",
       "    <tr>\n",
       "      <td>0</td>\n",
       "      <td>4680</td>\n",
       "      <td>2004-12-31</td>\n",
       "      <td>Jeopardy!</td>\n",
       "      <td>HISTORY</td>\n",
       "      <td>200</td>\n",
       "      <td>For the last 8 years of his life, Galileo was under house arrest for espousing this man's theory</td>\n",
       "      <td>Copernicus</td>\n",
       "    </tr>\n",
       "    <tr>\n",
       "      <td>1</td>\n",
       "      <td>4680</td>\n",
       "      <td>2004-12-31</td>\n",
       "      <td>Jeopardy!</td>\n",
       "      <td>ESPN's TOP 10 ALL-TIME ATHLETES</td>\n",
       "      <td>200</td>\n",
       "      <td>No. 2: 1912 Olympian; football star at Carlisle Indian School; 6 MLB seasons with the Reds, Giants &amp; Braves</td>\n",
       "      <td>Jim Thorpe</td>\n",
       "    </tr>\n",
       "    <tr>\n",
       "      <td>2</td>\n",
       "      <td>4680</td>\n",
       "      <td>2004-12-31</td>\n",
       "      <td>Jeopardy!</td>\n",
       "      <td>EVERYBODY TALKS ABOUT IT...</td>\n",
       "      <td>200</td>\n",
       "      <td>The city of Yuma in this state has a record average of 4,055 hours of sunshine each year</td>\n",
       "      <td>Arizona</td>\n",
       "    </tr>\n",
       "    <tr>\n",
       "      <td>3</td>\n",
       "      <td>4680</td>\n",
       "      <td>2004-12-31</td>\n",
       "      <td>Jeopardy!</td>\n",
       "      <td>THE COMPANY LINE</td>\n",
       "      <td>200</td>\n",
       "      <td>In 1963, live on \"The Art Linkletter Show\", this company served its billionth burger</td>\n",
       "      <td>McDonald's</td>\n",
       "    </tr>\n",
       "    <tr>\n",
       "      <td>4</td>\n",
       "      <td>4680</td>\n",
       "      <td>2004-12-31</td>\n",
       "      <td>Jeopardy!</td>\n",
       "      <td>EPITAPHS &amp; TRIBUTES</td>\n",
       "      <td>200</td>\n",
       "      <td>Signer of the Dec. of Indep., framer of the Constitution of Mass., second President of the United States</td>\n",
       "      <td>John Adams</td>\n",
       "    </tr>\n",
       "  </tbody>\n",
       "</table>\n",
       "</div>"
      ],
      "text/plain": [
       "   Show Number   Air Date      Round                         Category  Value  \\\n",
       "0         4680 2004-12-31  Jeopardy!                          HISTORY    200   \n",
       "1         4680 2004-12-31  Jeopardy!  ESPN's TOP 10 ALL-TIME ATHLETES    200   \n",
       "2         4680 2004-12-31  Jeopardy!      EVERYBODY TALKS ABOUT IT...    200   \n",
       "3         4680 2004-12-31  Jeopardy!                 THE COMPANY LINE    200   \n",
       "4         4680 2004-12-31  Jeopardy!              EPITAPHS & TRIBUTES    200   \n",
       "\n",
       "                                                                                                      Question  \\\n",
       "0             For the last 8 years of his life, Galileo was under house arrest for espousing this man's theory   \n",
       "1  No. 2: 1912 Olympian; football star at Carlisle Indian School; 6 MLB seasons with the Reds, Giants & Braves   \n",
       "2                     The city of Yuma in this state has a record average of 4,055 hours of sunshine each year   \n",
       "3                         In 1963, live on \"The Art Linkletter Show\", this company served its billionth burger   \n",
       "4     Signer of the Dec. of Indep., framer of the Constitution of Mass., second President of the United States   \n",
       "\n",
       "       Answer  \n",
       "0  Copernicus  \n",
       "1  Jim Thorpe  \n",
       "2     Arizona  \n",
       "3  McDonald's  \n",
       "4  John Adams  "
      ]
     },
     "execution_count": 10,
     "metadata": {},
     "output_type": "execute_result"
    }
   ],
   "source": [
    "jeopardy.head()"
   ]
  },
  {
   "cell_type": "markdown",
   "metadata": {},
   "source": [
    "-   **We have cleaned and changed the data type for \"Air Date\" and \"Value\". Now in 'Question' and 'Answer' column, there might be character except letters and digit. Since we will do the textual analysis we may get rid off these character.**"
   ]
  },
  {
   "cell_type": "code",
   "execution_count": 11,
   "metadata": {},
   "outputs": [],
   "source": [
    "# Function to remove characters except digit and letters\n",
    "def normalize_test(x):\n",
    "    import re\n",
    "    x = x.lower()\n",
    "    x = re.sub('[^\\w\\s]', '', x)    # [^\\w\\s] means \n",
    "    return x\n",
    "\n",
    "# Cleaning the 'Question' column and inserting next to it.\n",
    "cleaned_question = jeopardy.Question.apply(normalize_test)\n",
    "jeopardy.insert(6, 'Cleaned Question', cleaned_question)\n",
    "\n",
    "# Cleaning the answer column and inserting next to it.\n",
    "cleaned_answer = jeopardy.Answer.apply(normalize_test)\n",
    "jeopardy.insert(8, 'Cleaned Answer', cleaned_answer)"
   ]
  },
  {
   "cell_type": "code",
   "execution_count": 12,
   "metadata": {},
   "outputs": [
    {
     "data": {
      "text/html": [
       "<div>\n",
       "<style scoped>\n",
       "    .dataframe tbody tr th:only-of-type {\n",
       "        vertical-align: middle;\n",
       "    }\n",
       "\n",
       "    .dataframe tbody tr th {\n",
       "        vertical-align: top;\n",
       "    }\n",
       "\n",
       "    .dataframe thead th {\n",
       "        text-align: right;\n",
       "    }\n",
       "</style>\n",
       "<table border=\"1\" class=\"dataframe\">\n",
       "  <thead>\n",
       "    <tr style=\"text-align: right;\">\n",
       "      <th></th>\n",
       "      <th>Show Number</th>\n",
       "      <th>Air Date</th>\n",
       "      <th>Round</th>\n",
       "      <th>Category</th>\n",
       "      <th>Value</th>\n",
       "      <th>Question</th>\n",
       "      <th>Cleaned Question</th>\n",
       "      <th>Answer</th>\n",
       "      <th>Cleaned Answer</th>\n",
       "    </tr>\n",
       "  </thead>\n",
       "  <tbody>\n",
       "    <tr>\n",
       "      <td>0</td>\n",
       "      <td>4680</td>\n",
       "      <td>2004-12-31</td>\n",
       "      <td>Jeopardy!</td>\n",
       "      <td>HISTORY</td>\n",
       "      <td>200</td>\n",
       "      <td>For the last 8 years of his life, Galileo was under house arrest for espousing this man's theory</td>\n",
       "      <td>for the last 8 years of his life galileo was under house arrest for espousing this mans theory</td>\n",
       "      <td>Copernicus</td>\n",
       "      <td>copernicus</td>\n",
       "    </tr>\n",
       "    <tr>\n",
       "      <td>1</td>\n",
       "      <td>4680</td>\n",
       "      <td>2004-12-31</td>\n",
       "      <td>Jeopardy!</td>\n",
       "      <td>ESPN's TOP 10 ALL-TIME ATHLETES</td>\n",
       "      <td>200</td>\n",
       "      <td>No. 2: 1912 Olympian; football star at Carlisle Indian School; 6 MLB seasons with the Reds, Giants &amp; Braves</td>\n",
       "      <td>no 2 1912 olympian football star at carlisle indian school 6 mlb seasons with the reds giants  braves</td>\n",
       "      <td>Jim Thorpe</td>\n",
       "      <td>jim thorpe</td>\n",
       "    </tr>\n",
       "  </tbody>\n",
       "</table>\n",
       "</div>"
      ],
      "text/plain": [
       "   Show Number   Air Date      Round                         Category  Value  \\\n",
       "0         4680 2004-12-31  Jeopardy!                          HISTORY    200   \n",
       "1         4680 2004-12-31  Jeopardy!  ESPN's TOP 10 ALL-TIME ATHLETES    200   \n",
       "\n",
       "                                                                                                      Question  \\\n",
       "0             For the last 8 years of his life, Galileo was under house arrest for espousing this man's theory   \n",
       "1  No. 2: 1912 Olympian; football star at Carlisle Indian School; 6 MLB seasons with the Reds, Giants & Braves   \n",
       "\n",
       "                                                                                        Cleaned Question  \\\n",
       "0         for the last 8 years of his life galileo was under house arrest for espousing this mans theory   \n",
       "1  no 2 1912 olympian football star at carlisle indian school 6 mlb seasons with the reds giants  braves   \n",
       "\n",
       "       Answer Cleaned Answer  \n",
       "0  Copernicus     copernicus  \n",
       "1  Jim Thorpe     jim thorpe  "
      ]
     },
     "execution_count": 12,
     "metadata": {},
     "output_type": "execute_result"
    }
   ],
   "source": [
    "jeopardy.head(2)"
   ]
  },
  {
   "cell_type": "code",
   "execution_count": 13,
   "metadata": {},
   "outputs": [
    {
     "name": "stdout",
     "output_type": "stream",
     "text": [
      "<class 'pandas.core.frame.DataFrame'>\n",
      "RangeIndex: 19999 entries, 0 to 19998\n",
      "Data columns (total 9 columns):\n",
      "Show Number         19999 non-null int64\n",
      "Air Date            19999 non-null datetime64[ns]\n",
      "Round               19999 non-null object\n",
      "Category            19999 non-null object\n",
      "Value               19999 non-null int64\n",
      "Question            19999 non-null object\n",
      "Cleaned Question    19999 non-null object\n",
      "Answer              19999 non-null object\n",
      "Cleaned Answer      19999 non-null object\n",
      "dtypes: datetime64[ns](1), int64(2), object(6)\n",
      "memory usage: 1.4+ MB\n"
     ]
    }
   ],
   "source": [
    "jeopardy.info()"
   ]
  },
  {
   "cell_type": "markdown",
   "metadata": {},
   "source": [
    "# Analysis Part 1:\n",
    "In this section we will look at possible two pattern.\n",
    "1. **If an answer is deducible from question.** To do this, we will check how many times a word from answer has occured in question. We will write a function which will split the answer in words, then remove some common words, for instances, a, an, the from answer, and eventually will count the matched words.\n",
    "2. **If there is any repeated question over the episode or not.** To do this, we will loop over each question, take some key words where word length might be 4 or higher and match with the previous question. "
   ]
  },
  {
   "cell_type": "code",
   "execution_count": 14,
   "metadata": {},
   "outputs": [],
   "source": [
    "# Writing a function to count matched words.\n",
    "def ans_in_question(x, y):\n",
    "    ans_in_ques = []\n",
    "    for q, a in zip(x, y):\n",
    "        c = 0\n",
    "        split_answer = a.split()\n",
    "        split_question = q.split()\n",
    "        \n",
    "        # Removing the below common words from answer\n",
    "        unused = ['a', 'an', 'the']\n",
    "        for item in unused:\n",
    "            if item in split_answer:\n",
    "                split_answer.remove(item)\n",
    "                \n",
    "        # Counting the matched words\n",
    "        for item in split_answer:\n",
    "            if item in split_question:\n",
    "                c += 1\n",
    "            else:\n",
    "                c = c\n",
    "        # Proportion of matched words\n",
    "        if len(split_answer) == 0:\n",
    "            ans_in_ques.append(0)\n",
    "        else:\n",
    "            ans = c / len(split_answer)\n",
    "            ans_in_ques.append(ans)\n",
    "    \n",
    "    return ans_in_ques\n"
   ]
  },
  {
   "cell_type": "code",
   "execution_count": 15,
   "metadata": {},
   "outputs": [],
   "source": [
    "# Creating the matched word count column\n",
    "jeopardy['Ans in Ques'] = ans_in_question(jeopardy['Cleaned Question'], jeopardy['Cleaned Answer'])"
   ]
  },
  {
   "cell_type": "code",
   "execution_count": 16,
   "metadata": {},
   "outputs": [
    {
     "data": {
      "text/html": [
       "<div>\n",
       "<style scoped>\n",
       "    .dataframe tbody tr th:only-of-type {\n",
       "        vertical-align: middle;\n",
       "    }\n",
       "\n",
       "    .dataframe tbody tr th {\n",
       "        vertical-align: top;\n",
       "    }\n",
       "\n",
       "    .dataframe thead th {\n",
       "        text-align: right;\n",
       "    }\n",
       "</style>\n",
       "<table border=\"1\" class=\"dataframe\">\n",
       "  <thead>\n",
       "    <tr style=\"text-align: right;\">\n",
       "      <th></th>\n",
       "      <th>Show Number</th>\n",
       "      <th>Air Date</th>\n",
       "      <th>Round</th>\n",
       "      <th>Category</th>\n",
       "      <th>Value</th>\n",
       "      <th>Question</th>\n",
       "      <th>Cleaned Question</th>\n",
       "      <th>Answer</th>\n",
       "      <th>Cleaned Answer</th>\n",
       "      <th>Ans in Ques</th>\n",
       "    </tr>\n",
       "  </thead>\n",
       "  <tbody>\n",
       "    <tr>\n",
       "      <td>0</td>\n",
       "      <td>4680</td>\n",
       "      <td>2004-12-31</td>\n",
       "      <td>Jeopardy!</td>\n",
       "      <td>HISTORY</td>\n",
       "      <td>200</td>\n",
       "      <td>For the last 8 years of his life, Galileo was under house arrest for espousing this man's theory</td>\n",
       "      <td>for the last 8 years of his life galileo was under house arrest for espousing this mans theory</td>\n",
       "      <td>Copernicus</td>\n",
       "      <td>copernicus</td>\n",
       "      <td>0.0</td>\n",
       "    </tr>\n",
       "    <tr>\n",
       "      <td>1</td>\n",
       "      <td>4680</td>\n",
       "      <td>2004-12-31</td>\n",
       "      <td>Jeopardy!</td>\n",
       "      <td>ESPN's TOP 10 ALL-TIME ATHLETES</td>\n",
       "      <td>200</td>\n",
       "      <td>No. 2: 1912 Olympian; football star at Carlisle Indian School; 6 MLB seasons with the Reds, Giants &amp; Braves</td>\n",
       "      <td>no 2 1912 olympian football star at carlisle indian school 6 mlb seasons with the reds giants  braves</td>\n",
       "      <td>Jim Thorpe</td>\n",
       "      <td>jim thorpe</td>\n",
       "      <td>0.0</td>\n",
       "    </tr>\n",
       "  </tbody>\n",
       "</table>\n",
       "</div>"
      ],
      "text/plain": [
       "   Show Number   Air Date      Round                         Category  Value  \\\n",
       "0         4680 2004-12-31  Jeopardy!                          HISTORY    200   \n",
       "1         4680 2004-12-31  Jeopardy!  ESPN's TOP 10 ALL-TIME ATHLETES    200   \n",
       "\n",
       "                                                                                                      Question  \\\n",
       "0             For the last 8 years of his life, Galileo was under house arrest for espousing this man's theory   \n",
       "1  No. 2: 1912 Olympian; football star at Carlisle Indian School; 6 MLB seasons with the Reds, Giants & Braves   \n",
       "\n",
       "                                                                                        Cleaned Question  \\\n",
       "0         for the last 8 years of his life galileo was under house arrest for espousing this mans theory   \n",
       "1  no 2 1912 olympian football star at carlisle indian school 6 mlb seasons with the reds giants  braves   \n",
       "\n",
       "       Answer Cleaned Answer  Ans in Ques  \n",
       "0  Copernicus     copernicus          0.0  \n",
       "1  Jim Thorpe     jim thorpe          0.0  "
      ]
     },
     "execution_count": 16,
     "metadata": {},
     "output_type": "execute_result"
    }
   ],
   "source": [
    "jeopardy.head(2)"
   ]
  },
  {
   "cell_type": "code",
   "execution_count": 17,
   "metadata": {},
   "outputs": [
    {
     "data": {
      "text/plain": [
       "23"
      ]
     },
     "execution_count": 17,
     "metadata": {},
     "output_type": "execute_result"
    }
   ],
   "source": [
    "jeopardy['Ans in Ques'].nunique()"
   ]
  },
  {
   "cell_type": "code",
   "execution_count": 18,
   "metadata": {},
   "outputs": [
    {
     "data": {
      "text/plain": [
       "['bmh',\n",
       " 'classic',\n",
       " 'dark_background',\n",
       " 'fast',\n",
       " 'fivethirtyeight',\n",
       " 'ggplot',\n",
       " 'grayscale',\n",
       " 'seaborn-bright',\n",
       " 'seaborn-colorblind',\n",
       " 'seaborn-dark-palette',\n",
       " 'seaborn-dark',\n",
       " 'seaborn-darkgrid',\n",
       " 'seaborn-deep',\n",
       " 'seaborn-muted',\n",
       " 'seaborn-notebook',\n",
       " 'seaborn-paper',\n",
       " 'seaborn-pastel',\n",
       " 'seaborn-poster',\n",
       " 'seaborn-talk',\n",
       " 'seaborn-ticks',\n",
       " 'seaborn-white',\n",
       " 'seaborn-whitegrid',\n",
       " 'seaborn',\n",
       " 'Solarize_Light2',\n",
       " 'tableau-colorblind10',\n",
       " '_classic_test']"
      ]
     },
     "execution_count": 18,
     "metadata": {},
     "output_type": "execute_result"
    }
   ],
   "source": [
    "# available plot style\n",
    "plt.style.available"
   ]
  },
  {
   "cell_type": "code",
   "execution_count": 19,
   "metadata": {},
   "outputs": [
    {
     "data": {
      "image/png": "[encoded data removed]",
      "text/plain": [
       "<Figure size 475x285 with 1 Axes>"
      ]
     },
     "metadata": {
      "needs_background": "light"
     },
     "output_type": "display_data"
    }
   ],
   "source": [
    "plt.figure(figsize= (5,3), dpi= 95)\n",
    "plt.style.use('fivethirtyeight')\n",
    "\n",
    "jeopardy['Ans in Ques'].plot.kde(title= 'Distribution', linewidth= 1.5)\n",
    "\n",
    "plt.show()"
   ]
  },
  {
   "cell_type": "code",
   "execution_count": 20,
   "metadata": {},
   "outputs": [
    {
     "data": {
      "text/plain": [
       "0.043362608245852564"
      ]
     },
     "execution_count": 20,
     "metadata": {},
     "output_type": "execute_result"
    }
   ],
   "source": [
    "# Mean of the 'Ans in Ques'\n",
    "jeopardy['Ans in Ques'].mean()"
   ]
  },
  {
   "cell_type": "markdown",
   "metadata": {},
   "source": [
    "-   **So, from the kde plot and mean we see that only 4% of the answers might be deducible from question which would not be an effective way to take on. Let's look at the second pattern.**\n",
    "\n",
    "**2. If there is any repeated question over the episode or not.** To do this, we will loop over each question, take some key words where word length might be 4 or higher and match with the previous question. "
   ]
  },
  {
   "cell_type": "code",
   "execution_count": 21,
   "metadata": {},
   "outputs": [
    {
     "data": {
      "text/html": [
       "<div>\n",
       "<style scoped>\n",
       "    .dataframe tbody tr th:only-of-type {\n",
       "        vertical-align: middle;\n",
       "    }\n",
       "\n",
       "    .dataframe tbody tr th {\n",
       "        vertical-align: top;\n",
       "    }\n",
       "\n",
       "    .dataframe thead th {\n",
       "        text-align: right;\n",
       "    }\n",
       "</style>\n",
       "<table border=\"1\" class=\"dataframe\">\n",
       "  <thead>\n",
       "    <tr style=\"text-align: right;\">\n",
       "      <th></th>\n",
       "      <th>Show Number</th>\n",
       "      <th>Air Date</th>\n",
       "      <th>Round</th>\n",
       "      <th>Category</th>\n",
       "      <th>Value</th>\n",
       "      <th>Question</th>\n",
       "      <th>Cleaned Question</th>\n",
       "      <th>Answer</th>\n",
       "      <th>Cleaned Answer</th>\n",
       "      <th>Ans in Ques</th>\n",
       "    </tr>\n",
       "  </thead>\n",
       "  <tbody>\n",
       "    <tr>\n",
       "      <td>0</td>\n",
       "      <td>4680</td>\n",
       "      <td>2004-12-31</td>\n",
       "      <td>Jeopardy!</td>\n",
       "      <td>HISTORY</td>\n",
       "      <td>200</td>\n",
       "      <td>For the last 8 years of his life, Galileo was under house arrest for espousing this man's theory</td>\n",
       "      <td>for the last 8 years of his life galileo was under house arrest for espousing this mans theory</td>\n",
       "      <td>Copernicus</td>\n",
       "      <td>copernicus</td>\n",
       "      <td>0.0</td>\n",
       "    </tr>\n",
       "    <tr>\n",
       "      <td>1</td>\n",
       "      <td>4680</td>\n",
       "      <td>2004-12-31</td>\n",
       "      <td>Jeopardy!</td>\n",
       "      <td>ESPN's TOP 10 ALL-TIME ATHLETES</td>\n",
       "      <td>200</td>\n",
       "      <td>No. 2: 1912 Olympian; football star at Carlisle Indian School; 6 MLB seasons with the Reds, Giants &amp; Braves</td>\n",
       "      <td>no 2 1912 olympian football star at carlisle indian school 6 mlb seasons with the reds giants  braves</td>\n",
       "      <td>Jim Thorpe</td>\n",
       "      <td>jim thorpe</td>\n",
       "      <td>0.0</td>\n",
       "    </tr>\n",
       "  </tbody>\n",
       "</table>\n",
       "</div>"
      ],
      "text/plain": [
       "   Show Number   Air Date      Round                         Category  Value  \\\n",
       "0         4680 2004-12-31  Jeopardy!                          HISTORY    200   \n",
       "1         4680 2004-12-31  Jeopardy!  ESPN's TOP 10 ALL-TIME ATHLETES    200   \n",
       "\n",
       "                                                                                                      Question  \\\n",
       "0             For the last 8 years of his life, Galileo was under house arrest for espousing this man's theory   \n",
       "1  No. 2: 1912 Olympian; football star at Carlisle Indian School; 6 MLB seasons with the Reds, Giants & Braves   \n",
       "\n",
       "                                                                                        Cleaned Question  \\\n",
       "0         for the last 8 years of his life galileo was under house arrest for espousing this mans theory   \n",
       "1  no 2 1912 olympian football star at carlisle indian school 6 mlb seasons with the reds giants  braves   \n",
       "\n",
       "       Answer Cleaned Answer  Ans in Ques  \n",
       "0  Copernicus     copernicus          0.0  \n",
       "1  Jim Thorpe     jim thorpe          0.0  "
      ]
     },
     "execution_count": 21,
     "metadata": {},
     "output_type": "execute_result"
    }
   ],
   "source": [
    "jeopardy.head(2)"
   ]
  },
  {
   "cell_type": "code",
   "execution_count": 22,
   "metadata": {},
   "outputs": [],
   "source": [
    "# Taking a list to store unique question.\n",
    "question_overlap = []\n",
    "terms_used = set()\n",
    "\n",
    "# Comparing question with the previous one.\n",
    "for item in jeopardy['Cleaned Question']:\n",
    "    \n",
    "    split_question = item.split()\n",
    "    split_question = [q for q in split_question if len(q) > 4]\n",
    "    c = 0\n",
    "    for word in split_question:\n",
    "\n",
    "        if word in terms_used:\n",
    "            c += 1\n",
    "        terms_used.add(word)\n",
    "\n",
    "    if len(split_question) == 0:\n",
    "        question_overlap.append(0)\n",
    "    else:\n",
    "        ans = c / len(split_question)\n",
    "        question_overlap.append(ans)"
   ]
  },
  {
   "cell_type": "code",
   "execution_count": 23,
   "metadata": {},
   "outputs": [],
   "source": [
    "# Inserting the new column next to 'Cleaned Question'\n",
    "jeopardy.insert(7, 'Question Overlap', question_overlap)"
   ]
  },
  {
   "cell_type": "code",
   "execution_count": 24,
   "metadata": {},
   "outputs": [
    {
     "data": {
      "text/html": [
       "<div>\n",
       "<style scoped>\n",
       "    .dataframe tbody tr th:only-of-type {\n",
       "        vertical-align: middle;\n",
       "    }\n",
       "\n",
       "    .dataframe tbody tr th {\n",
       "        vertical-align: top;\n",
       "    }\n",
       "\n",
       "    .dataframe thead th {\n",
       "        text-align: right;\n",
       "    }\n",
       "</style>\n",
       "<table border=\"1\" class=\"dataframe\">\n",
       "  <thead>\n",
       "    <tr style=\"text-align: right;\">\n",
       "      <th></th>\n",
       "      <th>Show Number</th>\n",
       "      <th>Air Date</th>\n",
       "      <th>Round</th>\n",
       "      <th>Category</th>\n",
       "      <th>Value</th>\n",
       "      <th>Question</th>\n",
       "      <th>Cleaned Question</th>\n",
       "      <th>Question Overlap</th>\n",
       "      <th>Answer</th>\n",
       "      <th>Cleaned Answer</th>\n",
       "      <th>Ans in Ques</th>\n",
       "    </tr>\n",
       "  </thead>\n",
       "  <tbody>\n",
       "    <tr>\n",
       "      <td>0</td>\n",
       "      <td>4680</td>\n",
       "      <td>2004-12-31</td>\n",
       "      <td>Jeopardy!</td>\n",
       "      <td>HISTORY</td>\n",
       "      <td>200</td>\n",
       "      <td>For the last 8 years of his life, Galileo was under house arrest for espousing this man's theory</td>\n",
       "      <td>for the last 8 years of his life galileo was under house arrest for espousing this mans theory</td>\n",
       "      <td>0.0</td>\n",
       "      <td>Copernicus</td>\n",
       "      <td>copernicus</td>\n",
       "      <td>0.0</td>\n",
       "    </tr>\n",
       "    <tr>\n",
       "      <td>1</td>\n",
       "      <td>4680</td>\n",
       "      <td>2004-12-31</td>\n",
       "      <td>Jeopardy!</td>\n",
       "      <td>ESPN's TOP 10 ALL-TIME ATHLETES</td>\n",
       "      <td>200</td>\n",
       "      <td>No. 2: 1912 Olympian; football star at Carlisle Indian School; 6 MLB seasons with the Reds, Giants &amp; Braves</td>\n",
       "      <td>no 2 1912 olympian football star at carlisle indian school 6 mlb seasons with the reds giants  braves</td>\n",
       "      <td>0.0</td>\n",
       "      <td>Jim Thorpe</td>\n",
       "      <td>jim thorpe</td>\n",
       "      <td>0.0</td>\n",
       "    </tr>\n",
       "  </tbody>\n",
       "</table>\n",
       "</div>"
      ],
      "text/plain": [
       "   Show Number   Air Date      Round                         Category  Value  \\\n",
       "0         4680 2004-12-31  Jeopardy!                          HISTORY    200   \n",
       "1         4680 2004-12-31  Jeopardy!  ESPN's TOP 10 ALL-TIME ATHLETES    200   \n",
       "\n",
       "                                                                                                      Question  \\\n",
       "0             For the last 8 years of his life, Galileo was under house arrest for espousing this man's theory   \n",
       "1  No. 2: 1912 Olympian; football star at Carlisle Indian School; 6 MLB seasons with the Reds, Giants & Braves   \n",
       "\n",
       "                                                                                        Cleaned Question  \\\n",
       "0         for the last 8 years of his life galileo was under house arrest for espousing this mans theory   \n",
       "1  no 2 1912 olympian football star at carlisle indian school 6 mlb seasons with the reds giants  braves   \n",
       "\n",
       "   Question Overlap      Answer Cleaned Answer  Ans in Ques  \n",
       "0               0.0  Copernicus     copernicus          0.0  \n",
       "1               0.0  Jim Thorpe     jim thorpe          0.0  "
      ]
     },
     "execution_count": 24,
     "metadata": {},
     "output_type": "execute_result"
    }
   ],
   "source": [
    "jeopardy.head(2)"
   ]
  },
  {
   "cell_type": "code",
   "execution_count": 25,
   "metadata": {},
   "outputs": [
    {
     "data": {
      "image/png": "[encoded data removed]",
      "text/plain": [
       "<Figure size 475x285 with 1 Axes>"
      ]
     },
     "metadata": {},
     "output_type": "display_data"
    }
   ],
   "source": [
    "plt.figure(figsize= (5,3), dpi= 95)\n",
    "plt.style.use('fivethirtyeight')\n",
    "\n",
    "jeopardy['Question Overlap'].plot.kde(title= 'Distribution', linewidth= 1.5)\n",
    "\n",
    "plt.show()"
   ]
  },
  {
   "cell_type": "code",
   "execution_count": 26,
   "metadata": {},
   "outputs": [
    {
     "data": {
      "text/plain": [
       "0.7531655965814631"
      ]
     },
     "execution_count": 26,
     "metadata": {},
     "output_type": "execute_result"
    }
   ],
   "source": [
    "jeopardy['Question Overlap'].mean()"
   ]
  },
  {
   "cell_type": "markdown",
   "metadata": {},
   "source": [
    "-   **The question overlap are high enough, around 75% so it might be a good way to look at the previous question. Although there are some limitations because we have only taken the word length more than 4, have not includen phrase and many. We need further investigation to be more specific about this finding.**"
   ]
  },
  {
   "cell_type": "markdown",
   "metadata": {},
   "source": [
    "# Analysis Part 2:\n",
    "\n",
    "We can further refine this analysis by categorizing the questions as 'low-value' and 'high-value' and count the terms corresponding to high or low value questions using a chi-squared test. **The main goal of this part is when we take a question, what is the chance that it is from high value question.** \n",
    "\n",
    "- Low value -- Any row where Value is less than 800.\n",
    "- High value -- Any row where Value is greater than 800.\n",
    "\n",
    "You'll then be able to loop through each of the terms from the last screen, terms_used, and:\n",
    "\n",
    "- Find the number of low value questions the word occurs in.\n",
    "- Find the number of high value questions the word occurs in.\n",
    "- Find the percentage of questions the word occurs in.\n",
    "- Based on the percentage of questions the word occurs in, find expected counts.\n",
    "- Compute the chi squared value based on the expected counts and the observed counts for high and low value questions. \n",
    "\n",
    "We can then find the words with the biggest differences in usage between high and low value questions, by selecting the words with the highest associated chi-squared values. Doing this for all of the words would take a very long time, so we'll just do it for a small sample now.\n",
    "\n",
    "We will first create a function that takes in a row from a Dataframe, and: If the 'Cleaned Value' column is greater than 800, assigns 1 to value. Otherwise, assigns 0 to value. Return value. Apply function to the dataset jeopardy."
   ]
  },
  {
   "cell_type": "code",
   "execution_count": 27,
   "metadata": {},
   "outputs": [],
   "source": [
    "# Function to determine high low value\n",
    "def high_low_value(value):\n",
    "    if value >= 800:\n",
    "        return 1\n",
    "    else:\n",
    "        return 0\n",
    "\n",
    "# Creating a new column\n",
    "jeopardy[\"High Value\"] = jeopardy['Value'].apply(high_low_value)"
   ]
  },
  {
   "cell_type": "code",
   "execution_count": 28,
   "metadata": {},
   "outputs": [
    {
     "data": {
      "text/html": [
       "<div>\n",
       "<style scoped>\n",
       "    .dataframe tbody tr th:only-of-type {\n",
       "        vertical-align: middle;\n",
       "    }\n",
       "\n",
       "    .dataframe tbody tr th {\n",
       "        vertical-align: top;\n",
       "    }\n",
       "\n",
       "    .dataframe thead th {\n",
       "        text-align: right;\n",
       "    }\n",
       "</style>\n",
       "<table border=\"1\" class=\"dataframe\">\n",
       "  <thead>\n",
       "    <tr style=\"text-align: right;\">\n",
       "      <th></th>\n",
       "      <th>Show Number</th>\n",
       "      <th>Air Date</th>\n",
       "      <th>Round</th>\n",
       "      <th>Category</th>\n",
       "      <th>Value</th>\n",
       "      <th>Question</th>\n",
       "      <th>Cleaned Question</th>\n",
       "      <th>Question Overlap</th>\n",
       "      <th>Answer</th>\n",
       "      <th>Cleaned Answer</th>\n",
       "      <th>Ans in Ques</th>\n",
       "      <th>High Value</th>\n",
       "    </tr>\n",
       "  </thead>\n",
       "  <tbody>\n",
       "    <tr>\n",
       "      <td>19997</td>\n",
       "      <td>3582</td>\n",
       "      <td>2000-03-14</td>\n",
       "      <td>Jeopardy!</td>\n",
       "      <td>1998 QUOTATIONS</td>\n",
       "      <td>200</td>\n",
       "      <td>Before the grand jury she said, \"I'm really sorry for everything that's happened.  And I hate Linda Tripp\"</td>\n",
       "      <td>before the grand jury she said im really sorry for everything thats happened  and i hate linda tripp</td>\n",
       "      <td>0.888889</td>\n",
       "      <td>Monica Lewinsky</td>\n",
       "      <td>monica lewinsky</td>\n",
       "      <td>0.0</td>\n",
       "      <td>0</td>\n",
       "    </tr>\n",
       "    <tr>\n",
       "      <td>19998</td>\n",
       "      <td>3582</td>\n",
       "      <td>2000-03-14</td>\n",
       "      <td>Jeopardy!</td>\n",
       "      <td>LLAMA-RAMA</td>\n",
       "      <td>200</td>\n",
       "      <td>Llamas are the heftiest South American members of this animal family</td>\n",
       "      <td>llamas are the heftiest south american members of this animal family</td>\n",
       "      <td>0.714286</td>\n",
       "      <td>Camels</td>\n",
       "      <td>camels</td>\n",
       "      <td>0.0</td>\n",
       "      <td>0</td>\n",
       "    </tr>\n",
       "  </tbody>\n",
       "</table>\n",
       "</div>"
      ],
      "text/plain": [
       "       Show Number   Air Date      Round         Category  Value  \\\n",
       "19997         3582 2000-03-14  Jeopardy!  1998 QUOTATIONS    200   \n",
       "19998         3582 2000-03-14  Jeopardy!       LLAMA-RAMA    200   \n",
       "\n",
       "                                                                                                         Question  \\\n",
       "19997  Before the grand jury she said, \"I'm really sorry for everything that's happened.  And I hate Linda Tripp\"   \n",
       "19998                                        Llamas are the heftiest South American members of this animal family   \n",
       "\n",
       "                                                                                           Cleaned Question  \\\n",
       "19997  before the grand jury she said im really sorry for everything thats happened  and i hate linda tripp   \n",
       "19998                                  llamas are the heftiest south american members of this animal family   \n",
       "\n",
       "       Question Overlap           Answer   Cleaned Answer  Ans in Ques  \\\n",
       "19997          0.888889  Monica Lewinsky  monica lewinsky          0.0   \n",
       "19998          0.714286           Camels           camels          0.0   \n",
       "\n",
       "       High Value  \n",
       "19997           0  \n",
       "19998           0  "
      ]
     },
     "execution_count": 28,
     "metadata": {},
     "output_type": "execute_result"
    }
   ],
   "source": [
    "jeopardy.tail(2)"
   ]
  },
  {
   "cell_type": "code",
   "execution_count": 29,
   "metadata": {},
   "outputs": [
    {
     "data": {
      "text/plain": [
       "0    56.427821\n",
       "1    43.572179\n",
       "Name: High Value, dtype: float64"
      ]
     },
     "execution_count": 29,
     "metadata": {},
     "output_type": "execute_result"
    }
   ],
   "source": [
    "# Proportion of high value\n",
    "jeopardy['High Value'].value_counts(normalize= True) * 100"
   ]
  },
  {
   "cell_type": "markdown",
   "metadata": {},
   "source": [
    "- **From above it can be seen that about 44% questions are categorized as high-value. Since, we are interested in finding expected counts, we need to find total word count for questions categorized as high-value as well as low-value. We will write a function for that.**"
   ]
  },
  {
   "cell_type": "code",
   "execution_count": 30,
   "metadata": {},
   "outputs": [],
   "source": [
    "# Function to determine the count of a word in 'High Value' and 'Low Value'\n",
    "def count_word_in_high_low(word):\n",
    "    high_count = 0\n",
    "    low_count = 0\n",
    "    for i, row in jeopardy.iterrows():\n",
    "        split_question = row['Cleaned Question'].split()\n",
    "        if word in split_question: \n",
    "            if row['High Value'] == 1:\n",
    "                high_count += 1\n",
    "            else:\n",
    "                low_count += 1\n",
    "    return high_count, low_count"
   ]
  },
  {
   "cell_type": "code",
   "execution_count": 31,
   "metadata": {},
   "outputs": [],
   "source": [
    "# We obtained this set of all unique words earlier\n",
    "terms_used = terms_used"
   ]
  },
  {
   "cell_type": "markdown",
   "metadata": {},
   "source": [
    "-  As I mentioned before that our main goal of this part is when we take a question, what is the chance that it is from high value question. For the computational capability we will select 15 random words initially, then determine the observed and expected set to get the **Chi-square and P-value**"
   ]
  },
  {
   "cell_type": "code",
   "execution_count": 32,
   "metadata": {},
   "outputs": [
    {
     "name": "stdout",
     "output_type": "stream",
     "text": [
      "Randomly Picked Words:  ['imaid', 'mismatched', 'brittle', 'zwoarer', 'duxbury', 'detached', 'hrefhttpwwwjarchivecommedia20060725_dj_24wmvkelly', 'igneous', 'novelist', 'fundy', 'seminoles', 'pistol', 'aquatic', 'tenochtitlan', 'anthem']\n",
      "\n",
      "Observed Set:  [(1, 0), (0, 1), (0, 1), (0, 1), (0, 1), (0, 1), (1, 0), (1, 1), (10, 7), (1, 1), (1, 2), (1, 1), (1, 2), (0, 1), (4, 9)]\n"
     ]
    }
   ],
   "source": [
    "import random\n",
    "terms_used_list = list(terms_used)\n",
    "\n",
    "comparison_terms = []\n",
    "for i in range(15):\n",
    "    r = random.choice(terms_used_list)   # This function pick a word randomly\n",
    "    comparison_terms.append(r)\n",
    "\n",
    "print('Randomly Picked Words: ', comparison_terms, end= '\\n\\n')\n",
    "\n",
    "# Observed set\n",
    "observed_set = []\n",
    "\n",
    "for item in comparison_terms:\n",
    "    obs = count_word_in_high_low(item) \n",
    "    observed_set.append(obs)\n",
    "    \n",
    "print('Observed Set: ', observed_set)"
   ]
  },
  {
   "cell_type": "markdown",
   "metadata": {},
   "source": [
    "Now it's time to determine the expected set. **The actual proportion of high value (1) and low value (0) in the 'High Value' column which is basically our expected value. So, the high count and low count proportion from observed set has to be same as the actual proportion.** To get that we have to follow the below step:\n",
    "-  Firstly, calculate the total count (high count + low count) of each words from observed set. \n",
    "-  Divide this addition by total length.\n",
    "-  Multiply the above result to actual high value count to get expected value for observed high value and multiply to actual low value count to get the expected value for observed low value.\n"
   ]
  },
  {
   "cell_type": "code",
   "execution_count": 33,
   "metadata": {},
   "outputs": [
    {
     "data": {
      "text/plain": [
       "0    11285\n",
       "1     8714\n",
       "Name: High Value, dtype: int64"
      ]
     },
     "execution_count": 33,
     "metadata": {},
     "output_type": "execute_result"
    }
   ],
   "source": [
    "jeopardy['High Value'].value_counts()"
   ]
  },
  {
   "cell_type": "code",
   "execution_count": 34,
   "metadata": {},
   "outputs": [],
   "source": [
    "# Actual count of high and low value\n",
    "high_value_total_count = jeopardy['High Value'].value_counts()[1]\n",
    "low_value_total_count = jeopardy['High Value'].value_counts()[0]"
   ]
  },
  {
   "cell_type": "code",
   "execution_count": 35,
   "metadata": {},
   "outputs": [
    {
     "name": "stdout",
     "output_type": "stream",
     "text": [
      "Chi-square:  1.295042460408538\t\t\tP_value:  0.2551207647961051\n",
      "Chi-square:  0.7721754541426672\t\t\tP_value:  0.3795448984353684\n",
      "Chi-square:  0.7721754541426672\t\t\tP_value:  0.3795448984353684\n",
      "Chi-square:  0.7721754541426672\t\t\tP_value:  0.3795448984353684\n",
      "Chi-square:  0.7721754541426672\t\t\tP_value:  0.3795448984353684\n",
      "Chi-square:  0.7721754541426672\t\t\tP_value:  0.3795448984353684\n",
      "Chi-square:  1.295042460408538\t\t\tP_value:  0.2551207647961051\n",
      "Chi-square:  0.03360895727560264\t\t\tP_value:  0.8545410902144307\n",
      "Chi-square:  1.608284899637912\t\t\tP_value:  0.20473306001130867\n",
      "Chi-square:  0.03360895727560264\t\t\tP_value:  0.8545410902144307\n",
      "Chi-square:  0.1279147589930691\t\t\tP_value:  0.7206039615746844\n",
      "Chi-square:  0.03360895727560264\t\t\tP_value:  0.8545410902144307\n",
      "Chi-square:  0.1279147589930691\t\t\tP_value:  0.7206039615746844\n",
      "Chi-square:  0.7721754541426672\t\t\tP_value:  0.3795448984353684\n",
      "Chi-square:  0.8666839347763579\t\t\tP_value:  0.35187497443487614\n"
     ]
    }
   ],
   "source": [
    "# Importing the function to determine chi-square\n",
    "from scipy.stats import chisquare\n",
    "\n",
    "for item in observed_set:\n",
    "    add = sum(item)\n",
    "    \n",
    "    # Calculation to get expected value\n",
    "    high = (add / len(jeopardy)) * high_value_total_count\n",
    "    low = (add / len(jeopardy)) * low_value_total_count\n",
    "    \n",
    "    # Assigning observed and expected set\n",
    "    observed = list(item)\n",
    "    expected = [high, low]\n",
    "    \n",
    "    chi_square, p_value = chisquare(observed, expected)\n",
    "    print('Chi-square: ',chi_square, end= '\\t\\t\\t')\n",
    "    print('P_value: ', p_value)"
   ]
  },
  {
   "cell_type": "markdown",
   "metadata": {},
   "source": [
    "##### So, what we know that The chi-squared value tells us how much difference exists between our observed and expected value. If the Chi value is 0 then there is no difference but a low value means there is high correlation between the observed and expected set. Since we see that chi value are all lower than 5, so the chi-squared test isn't as valid.  \n",
    "\n",
    "##### On the other hand, the P-value determine whether the distribution is due to chance or not. Since most of the value are greater that the standard 0.05, we can say the chance is random and which is not valid either.\n",
    "\n",
    "## We obtained the wrong results because of the simulation on insufficients data. We need further investigation to  "
   ]
  },
  {
   "cell_type": "code",
   "execution_count": 37,
   "metadata": {},
   "outputs": [
    {
     "data": {
      "text/html": [
       "<div>\n",
       "<style scoped>\n",
       "    .dataframe tbody tr th:only-of-type {\n",
       "        vertical-align: middle;\n",
       "    }\n",
       "\n",
       "    .dataframe tbody tr th {\n",
       "        vertical-align: top;\n",
       "    }\n",
       "\n",
       "    .dataframe thead th {\n",
       "        text-align: right;\n",
       "    }\n",
       "</style>\n",
       "<table border=\"1\" class=\"dataframe\">\n",
       "  <thead>\n",
       "    <tr style=\"text-align: right;\">\n",
       "      <th></th>\n",
       "      <th>Show Number</th>\n",
       "      <th>Air Date</th>\n",
       "      <th>Round</th>\n",
       "      <th>Category</th>\n",
       "      <th>Value</th>\n",
       "      <th>Question</th>\n",
       "      <th>Cleaned Question</th>\n",
       "      <th>Question Overlap</th>\n",
       "      <th>Answer</th>\n",
       "      <th>Cleaned Answer</th>\n",
       "      <th>Ans in Ques</th>\n",
       "      <th>High Value</th>\n",
       "    </tr>\n",
       "  </thead>\n",
       "  <tbody>\n",
       "    <tr>\n",
       "      <td>0</td>\n",
       "      <td>4680</td>\n",
       "      <td>2004-12-31</td>\n",
       "      <td>Jeopardy!</td>\n",
       "      <td>HISTORY</td>\n",
       "      <td>200</td>\n",
       "      <td>For the last 8 years of his life, Galileo was under house arrest for espousing this man's theory</td>\n",
       "      <td>for the last 8 years of his life galileo was under house arrest for espousing this mans theory</td>\n",
       "      <td>0.0</td>\n",
       "      <td>Copernicus</td>\n",
       "      <td>copernicus</td>\n",
       "      <td>0.0</td>\n",
       "      <td>0</td>\n",
       "    </tr>\n",
       "    <tr>\n",
       "      <td>1</td>\n",
       "      <td>4680</td>\n",
       "      <td>2004-12-31</td>\n",
       "      <td>Jeopardy!</td>\n",
       "      <td>ESPN's TOP 10 ALL-TIME ATHLETES</td>\n",
       "      <td>200</td>\n",
       "      <td>No. 2: 1912 Olympian; football star at Carlisle Indian School; 6 MLB seasons with the Reds, Giants &amp; Braves</td>\n",
       "      <td>no 2 1912 olympian football star at carlisle indian school 6 mlb seasons with the reds giants  braves</td>\n",
       "      <td>0.0</td>\n",
       "      <td>Jim Thorpe</td>\n",
       "      <td>jim thorpe</td>\n",
       "      <td>0.0</td>\n",
       "      <td>0</td>\n",
       "    </tr>\n",
       "    <tr>\n",
       "      <td>2</td>\n",
       "      <td>4680</td>\n",
       "      <td>2004-12-31</td>\n",
       "      <td>Jeopardy!</td>\n",
       "      <td>EVERYBODY TALKS ABOUT IT...</td>\n",
       "      <td>200</td>\n",
       "      <td>The city of Yuma in this state has a record average of 4,055 hours of sunshine each year</td>\n",
       "      <td>the city of yuma in this state has a record average of 4055 hours of sunshine each year</td>\n",
       "      <td>0.0</td>\n",
       "      <td>Arizona</td>\n",
       "      <td>arizona</td>\n",
       "      <td>0.0</td>\n",
       "      <td>0</td>\n",
       "    </tr>\n",
       "  </tbody>\n",
       "</table>\n",
       "</div>"
      ],
      "text/plain": [
       "   Show Number   Air Date      Round                         Category  Value  \\\n",
       "0         4680 2004-12-31  Jeopardy!                          HISTORY    200   \n",
       "1         4680 2004-12-31  Jeopardy!  ESPN's TOP 10 ALL-TIME ATHLETES    200   \n",
       "2         4680 2004-12-31  Jeopardy!      EVERYBODY TALKS ABOUT IT...    200   \n",
       "\n",
       "                                                                                                      Question  \\\n",
       "0             For the last 8 years of his life, Galileo was under house arrest for espousing this man's theory   \n",
       "1  No. 2: 1912 Olympian; football star at Carlisle Indian School; 6 MLB seasons with the Reds, Giants & Braves   \n",
       "2                     The city of Yuma in this state has a record average of 4,055 hours of sunshine each year   \n",
       "\n",
       "                                                                                        Cleaned Question  \\\n",
       "0         for the last 8 years of his life galileo was under house arrest for espousing this mans theory   \n",
       "1  no 2 1912 olympian football star at carlisle indian school 6 mlb seasons with the reds giants  braves   \n",
       "2                the city of yuma in this state has a record average of 4055 hours of sunshine each year   \n",
       "\n",
       "   Question Overlap      Answer Cleaned Answer  Ans in Ques  High Value  \n",
       "0               0.0  Copernicus     copernicus          0.0           0  \n",
       "1               0.0  Jim Thorpe     jim thorpe          0.0           0  \n",
       "2               0.0     Arizona        arizona          0.0           0  "
      ]
     },
     "execution_count": 37,
     "metadata": {},
     "output_type": "execute_result"
    }
   ],
   "source": [
    "jeopardy.head(3)"
   ]
  },
  {
   "cell_type": "markdown",
   "metadata": {},
   "source": [
    "# An an extension of this project, we can look at one more column to find any pattern.\n",
    "\n",
    "**Let's look at the 'Category' column if we could find anything.**"
   ]
  },
  {
   "cell_type": "code",
   "execution_count": 52,
   "metadata": {},
   "outputs": [
    {
     "data": {
      "text/plain": [
       "3581"
      ]
     },
     "execution_count": 52,
     "metadata": {},
     "output_type": "execute_result"
    }
   ],
   "source": [
    "# Unique category\n",
    "jeopardy['Category'].nunique()"
   ]
  },
  {
   "cell_type": "markdown",
   "metadata": {},
   "source": [
    "-   **We see that, there are almost 3581 unique category. So it is not the proper way to look at all category. we can find out top 10 category.**"
   ]
  },
  {
   "cell_type": "code",
   "execution_count": 78,
   "metadata": {},
   "outputs": [
    {
     "data": {
      "text/plain": [
       "TELEVISION           51\n",
       "U.S. GEOGRAPHY       50\n",
       "LITERATURE           45\n",
       "AMERICAN HISTORY     40\n",
       "BEFORE & AFTER       40\n",
       "                     ..\n",
       "2004                  1\n",
       "THE CONSTITUTION      1\n",
       "THE WORLD OF ART      1\n",
       "THE BOOK TRADE        1\n",
       "RULERS IN HISTORY     1\n",
       "Name: Category, Length: 3581, dtype: int64"
      ]
     },
     "execution_count": 78,
     "metadata": {},
     "output_type": "execute_result"
    }
   ],
   "source": [
    "jeopardy.Category.value_counts().sort_values(ascending= False)"
   ]
  },
  {
   "cell_type": "markdown",
   "metadata": {},
   "source": [
    "### Since highest number of appeared question from a category is 51, we can find the category where appeared question is at least 30."
   ]
  },
  {
   "cell_type": "code",
   "execution_count": 82,
   "metadata": {},
   "outputs": [
    {
     "name": "stdout",
     "output_type": "stream",
     "text": [
      "First 28 values are above or equal to 30.\n"
     ]
    },
    {
     "data": {
      "image/png": "[encoded data removed]",
      "text/plain": [
       "<Figure size 950x380 with 1 Axes>"
      ]
     },
     "metadata": {},
     "output_type": "display_data"
    }
   ],
   "source": [
    "# Taking the values as a list\n",
    "value = list(jeopardy.Category.value_counts().sort_values(ascending= False))\n",
    "\n",
    "# finding the categories which are more than 29.\n",
    "for i, item in enumerate(value) :\n",
    "    head = i\n",
    "    if item < 30:\n",
    "        break;\n",
    "print(f'First {head} values are above or equal to 30.')\n",
    "\n",
    "# PLotting the category\n",
    "plt.figure(figsize=(10,4), dpi= 95)\n",
    "jeopardy.Category.value_counts().sort_values(ascending= False).head(head).plot.bar(title= 'Top 10 Categories')\n",
    "\n",
    "plt.show()"
   ]
  },
  {
   "cell_type": "markdown",
   "metadata": {},
   "source": [
    "### Although, we have not been able to find out any question pattern yet because of the computational capability but we can at least study on this most common categories before attending the show.\n",
    "\n",
    "# That's all for this project. Thank you so much for spending time here. I would really appreciate if you leave some feedbback.  "
   ]
  },
  {
   "cell_type": "code",
   "execution_count": null,
   "metadata": {},
   "outputs": [],
   "source": []
  }
 ],
 "metadata": {
  "kernelspec": {
   "display_name": "Python 3",
   "language": "python",
   "name": "python3"
  },
  "language_info": {
   "codemirror_mode": {
    "name": "ipython",
    "version": 3
   },
   "file_extension": ".py",
   "mimetype": "text/x-python",
   "name": "python",
   "nbconvert_exporter": "python",
   "pygments_lexer": "ipython3",
   "version": "3.7.4"
  }
 },
 "nbformat": 4,
 "nbformat_minor": 2
}
